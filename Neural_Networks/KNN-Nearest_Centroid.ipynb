{
 "cells": [
  {
   "cell_type": "markdown",
   "metadata": {},
   "source": [
    "## **Χρήστος-Αλέξανδρος Δαρδαμπούνης ΑΕΜ:10335 (Τμήμα Ηλεκτρολόγων Μηχανικών & Μηχανικών Υπολογιστών)**"
   ]
  },
  {
   "cell_type": "markdown",
   "metadata": {},
   "source": [
    "# Αναφορά σχετικά με την Ενδιάμεση Εργασία\n",
    "\n",
    "Το παρόν notebook περιλαμβάνει την αναφορά σχετική με την ενδιάμεση εργασία όπου συγκρίνεται η απόδοση του αλγορίθμου πλησιέστερου γείτονα με 1 και 3 πλησιέστερους γείτονες με τον αλγόριθμο πλησιέστερου κέντρου πάνω στην CIFAR-10 ως βάση δεδομένων.\n"
   ]
  },
  {
   "cell_type": "markdown",
   "metadata": {},
   "source": [
    "## Εισαγωγή των απαραίτητων βιβλιοθηκών και φόρτωση της βάσης δεδομένων\n",
    "\n",
    "Αρχικά, κάνω import όλα τα απαραίτητα libraries τα οποία θα χρειαστούν για την σύγκριση των δύο αλγορίθμων οπώς επίσης φορτώνω και την βάση δεδομένων μου σύμφωνα με τις οδηγίες που αναφέρονται στο παρακάτω link : https://www.cs.toronto.edu/~kriz/cifar.html"
   ]
  },
  {
   "cell_type": "code",
   "execution_count": 1,
   "metadata": {},
   "outputs": [],
   "source": [
    "import numpy as np\n",
    "import matplotlib.pyplot as plt\n",
    "import cv2\n",
    "import torch\n",
    "import pickle \n",
    "import os \n",
    "import time\n",
    "from sklearn.metrics import accuracy_score\n",
    "from sklearn.neighbors import KNeighborsClassifier\n",
    "from sklearn.neighbors import NearestCentroid\n",
    "from sklearn.preprocessing import StandardScaler\n",
    "from sklearn.decomposition import PCA\n",
    "from skimage.feature import hog"
   ]
  },
  {
   "cell_type": "markdown",
   "metadata": {},
   "source": [
    "Οι παραπάνω βιβλιοθήκες είναι χρήσιμες για τους εξής λόγους :\n",
    "* Η **numpy** για πράξεις μεταξύ πινάκων και διανυσμάτων, για αποφυγή for loops και για κατάλληλο χειρισμό των εικόνων.\n",
    "* Η **matplolib** για την οπτικοποίηση των αποτελεσμάτων μας. \n",
    "* Η **opencv(cv2)** για τον διαχειρισμό των εικόνων της CIFAR-10.\n",
    "* Η **PyTorch(torch)** για την βελτιστοποίηση του δικού μου k-Nearest Neighbour καθώς και του δικού μου Nearest Centroid.\n",
    "* Η **os** και η **pickle** για την φόρτωση των αρχείων της CIFAR-10.\n",
    "* Επίσης από την **sklearn** κάνω import κάποιες συναρτήσεις για να συγκίνω την απόδοση των 2 αλγορίθμων με τους δικούς μου, την `accuracy_score()` για να μετρήσω την επιτύχια που έχουν οι k-Nearest Neighbour και Nearest Centroid, ενώ ακόμα κάνω import την κλάση `StandardScaler()` και την κλάση `PCA()` για να μειώσω τις διαστάσεις του προβλήματος μου και να βοηθήσω τους αλγόριθμους.\n",
    "* Τέλος, εισάγω από την **skimage** την συνάρτηση `hog()` ο οποίος είναι ένας feature descriptor αλγόριθμος που μετράει τις εμφανίσεις των προσανατολισμών των gradient σε τοπικές μερίδες της εικόνας, δίνοντας έτσι χρήσιμα χαρακτηριστικά τα οποία μπορούν να χρησιμοποιηθούν αντί για ολόκληρο το set των features."
   ]
  },
  {
   "cell_type": "markdown",
   "metadata": {},
   "source": [
    "## Φόρτωση της CIFAR-10 \n",
    "\n",
    "Στο παρακάτω κομμάτι κώδικα φορτώνω όλα τα αρχεία της βάσης και τα χωρίζω σε training και testing, όπως επίσης χωρίζω και τα labels."
   ]
  },
  {
   "cell_type": "code",
   "execution_count": 2,
   "metadata": {},
   "outputs": [],
   "source": [
    "directory = r'C:\\Users\\chris\\OneDrive\\Υπολογιστής\\9ο ΕΞΑΜΗΝΟ\\ΝΕΥΡΩΝΙΚΑ ΔΙΚΤΥΑ & ΒΑΘΙΑ ΜΑΘΗΣΗ\\cifar-10-python\\cifar-10-batches-py'\n",
    "data = {}\n",
    "for file in os.listdir(directory):\n",
    "    with open(directory + \"\\\\\" + file, 'rb') as f:\n",
    "        data[f'{file}'] =  pickle.load(f, encoding='bytes')\n",
    "\n",
    "filename = r'C:\\Users\\chris\\OneDrive\\Υπολογιστής\\9ο ΕΞΑΜΗΝΟ\\ΝΕΥΡΩΝΙΚΑ ΔΙΚΤΥΑ & ΒΑΘΙΑ ΜΑΘΗΣΗ\\cifar-10-python\\cifar-10-batches-py\\test_batch'\n",
    "with open(filename, 'rb') as fo:\n",
    "    test_data = pickle.load(fo, encoding='bytes')\n",
    "\n",
    "\n",
    "X_train = np.vstack((data['data_batch_1'][b'data'], data['data_batch_2'][b'data'], data['data_batch_3'][b'data'], data['data_batch_4'][b'data'], data['data_batch_5'][b'data']), dtype=np.uint8)\n",
    "y_train = np.hstack((data['data_batch_1'][b'labels'], data['data_batch_2'][b'labels'], data['data_batch_3'][b'labels'], data['data_batch_4'][b'labels'], data['data_batch_5'][b'labels']), dtype=np.int32)\n",
    "X_test = test_data[b'data']\n",
    "y_test = np.array(test_data[b'labels'])"
   ]
  },
  {
   "cell_type": "markdown",
   "metadata": {},
   "source": [
    "## Image Visualization\n",
    "\n",
    "Στην συνέχεια για να βεβαιωθώ όταν φορτώθηκαν σωστά τα αρχεία από την CIFAR-10 σχηματίζω τις εικόνες και κάνω plot ενδεικτικά μια από αυτές."
   ]
  },
  {
   "cell_type": "code",
   "execution_count": 3,
   "metadata": {},
   "outputs": [
    {
     "data": {
      "image/png": "[encoded data removed]",
      "text/plain": [
       "<Figure size 1000x800 with 2 Axes>"
      ]
     },
     "metadata": {},
     "output_type": "display_data"
    }
   ],
   "source": [
    "X = np.vstack((X_train, X_test))\n",
    "img = np.zeros(shape=(32, 32, 3), dtype=np.uint8)\n",
    "images = np.zeros(shape=(X.shape[0], 32, 32, 3), dtype=np.uint8)\n",
    "train_images = np.zeros(shape=(X_train.shape[0], 32, 32, 3), dtype=np.uint8)\n",
    "test_images = np.zeros(shape=(X_test.shape[0], 32, 32, 3), dtype=np.uint8)\n",
    "\n",
    "for i in range(X.shape[0]):\n",
    "    red_channel   = X[i, 0:1024].reshape(32, 32)\n",
    "    green_channel = X[i, 1024:2048].reshape(32, 32)\n",
    "    blue_channel  = X[i, 2048:3072].reshape(32, 32)\n",
    "\n",
    "    img = np.dstack((red_channel, green_channel, blue_channel))\n",
    "\n",
    "    images[i] = img\n",
    "\n",
    "for i in range(X_train.shape[0]):\n",
    "    red_channel   = X_train[i, 0:1024].reshape(32, 32)\n",
    "    green_channel = X_train[i, 1024:2048].reshape(32, 32)\n",
    "    blue_channel  = X_train[i, 2048:3072].reshape(32, 32)\n",
    "\n",
    "    img = np.dstack((red_channel, green_channel, blue_channel))\n",
    "\n",
    "    train_images[i] = img\n",
    "\n",
    "for i in range(0, X_test.shape[0]):\n",
    "    red_channel   = X_test[i, 0:1024].reshape(32, 32)\n",
    "    green_channel = X_test[i, 1024:2048].reshape(32, 32)\n",
    "    blue_channel  = X_test[i, 2048:3072].reshape(32, 32)\n",
    "\n",
    "    img = np.dstack((red_channel, green_channel, blue_channel))\n",
    "    test_images[i] = img\n",
    "\n",
    "fig, ax = plt.subplots(1, 2, figsize=(10, 8))\n",
    "ax[0].imshow(train_images[28635])\n",
    "ax[0].set_title('Training Image')\n",
    "ax[1].imshow(test_images[2183])\n",
    "ax[1].set_title('Testing Image')\n",
    "plt.show()"
   ]
  },
  {
   "cell_type": "markdown",
   "metadata": {},
   "source": [
    "## Υλοποίηση του k-Nearest Neighbour και του Nearest Centroid\n",
    "\n",
    "Στην συνέχεια παραθέτω την δικιά μου υλοποίηση για τους δύο αλγορίθμους που θέλουμε για να συγκρίνω την απόδοση τους. Στην παρούσα φάση τους υλοποιώ εκμεταλλευόμενος μόνο την `numpy`. Στην συνέχεια, παρουσιάζω και μια υλοποίηση τους σε `PyTorch` όπου έχω την δυνατότητα να τρέχω τους αλγορίθμους μου στην κάρτα γραφικών αντί για τον επεξεργαστή, γεγονός που μου δίνει μεγαλύτερες ταχύτητες επεξεργασίας."
   ]
  },
  {
   "cell_type": "code",
   "execution_count": 4,
   "metadata": {},
   "outputs": [],
   "source": [
    "class KNN:\n",
    "    def __init__(self, k=3):\n",
    "        self.k = k\n",
    "\n",
    "    def fit(self, X: np.array, y: np.array):\n",
    "        self.X = X # fit the training data to kNN\n",
    "        self.y = y # fit the training labels to kNN\n",
    "\n",
    "    def get_distance(self, a: np.array)->np.array:\n",
    "        return np.sqrt(np.sum((self.X - a) ** 2, axis=1)) # calculate the distances\n",
    "\n",
    "    def get_neighbours(self, point: np.array)->np.array:\n",
    "        distances = self.get_distance(point)\n",
    "        k_indices = np.argsort(distances)[:self.k] # get the top k indices corresponding to the smallest distances\n",
    "        return k_indices\n",
    "\n",
    "    def predict(self, X: np.array):\n",
    "        predictions = []\n",
    "        for example in X:\n",
    "            k_indices = self.get_neighbours(example) \n",
    "            k_y_values = self.y[k_indices] # get the representative class of each k index\n",
    "            prediction = np.bincount(k_y_values).argmax()  # Find the class with the highest count\n",
    "            predictions.append(prediction)\n",
    "\n",
    "        return np.array(predictions)\n",
    "\n",
    "\n",
    "class MyNearestCentroid:\n",
    "\n",
    "    def __init__(self):\n",
    "        self.centroids = None\n",
    "        self.classes = None\n",
    "\n",
    "    def fit(self, X_train:np.array, y_train:np.array):\n",
    "\n",
    "        self.classes = np.unique(y_train) # find the unique labels from the training y labels\n",
    "\n",
    "        self.centroids = []\n",
    "\n",
    "        for cls in self.classes:\n",
    "            centroid = X_train[y_train == cls].mean(axis=0) # get the mean value of all the training data with the defined label\n",
    "            self.centroids.append(centroid)\n",
    "\n",
    "        self.centroids = np.array(self.centroids)\n",
    "\n",
    "    def predict(self, X:np.array)->np.array:\n",
    "\n",
    "        predictions = []\n",
    "\n",
    "        for x in X:\n",
    "            distances = np.linalg.norm((self.centroids - x), axis=1) # calculating the distance of each sample from each centroid\n",
    "            classes_indexes = np.argsort(distances)[0] # getting the index corresponding to the smallest distance\n",
    "            predictions.append(self.classes[classes_indexes]) # getting the corresponding label based on the previously predicted index \n",
    "\n",
    "        return np.array(predictions)"
   ]
  },
  {
   "cell_type": "markdown",
   "metadata": {},
   "source": [
    "## Μέσες τιμές κάθε Colour Channel\n",
    "\n",
    "Αρχικά, αντί να βάλω όλα τα features όπως μου δίνονται στους αλγορίθμους, βάζω τις μέσες τιμές της φωτεινότητας από κάθε colour channel, γεγονός που μου μειώνει σημαντικά το πλήθος των διαστάσεων του προβλημάτος από 3072 σε 3 μόνο διάστασεις. Αυτό αυξάνει σε σημαντικό βαθμό την ταχύτητα επεξεργασίας των αλγορίθμων αλλά πιθανόν να μειώνει αρκετά και την απόδοση τους και άρα και την ακρίβεια τους."
   ]
  },
  {
   "cell_type": "code",
   "execution_count": 5,
   "metadata": {},
   "outputs": [],
   "source": [
    "mean_R_X_train = np.zeros(shape=(X_train.shape[0], 1))\n",
    "mean_G_X_train = np.zeros(shape=(X_train.shape[0], 1))\n",
    "mean_B_X_train = np.zeros(shape=(X_train.shape[0], 1))\n",
    "mean_R_X_test = np.zeros(shape=(X_test.shape[0], 1))\n",
    "mean_G_X_test = np.zeros(shape=(X_test.shape[0], 1))\n",
    "mean_B_X_test = np.zeros(shape=(X_test.shape[0], 1))\n",
    "\n",
    "for i in range(X_train.shape[0]):\n",
    "    mean_R_X_train[i] = np.mean(X_train[i, 0:1024])\n",
    "    mean_G_X_train[i] = np.mean(X_train[i, 1024:2048])\n",
    "    mean_B_X_train[i] = np.mean(X_train[i, 2048:3072])\n",
    "\n",
    "for i in range(X_test.shape[0]):\n",
    "    mean_R_X_test[i] = np.mean(X_test[i, 0:1024])\n",
    "    mean_G_X_test[i] = np.mean(X_test[i, 1024:2048])\n",
    "    mean_B_X_test[i] = np.mean(X_test[i, 2048:3072])\n",
    "\n",
    "X_mean_train = np.hstack((mean_R_X_train, mean_G_X_train, mean_B_X_train))\n",
    "X_mean_test = np.hstack((mean_R_X_test, mean_G_X_test, mean_B_X_test))"
   ]
  },
  {
   "cell_type": "markdown",
   "metadata": {},
   "source": [
    "Ξεκινάω δοκιμάζοντας πρώτα την απόδοση των δικών μου αλγορίθμων και στην συνέχεια συγκρίνω με τους αλγόριθμους που παρέχει η scikit-learn."
   ]
  },
  {
   "cell_type": "code",
   "execution_count": 6,
   "metadata": {},
   "outputs": [
    {
     "name": "stdout",
     "output_type": "stream",
     "text": [
      "Accuracy (1 Nearest Neighbour): 17.67%\n",
      "Total execution time : 44.227572202682495\n",
      "Accuracy (Nearest Centroid): 19.63%\n",
      "Total execution time : 0.09180521965026855\n",
      "Accuracy (3 Nearest Neighbours): 18.70%\n",
      "Total execution time : 44.6509153842926\n"
     ]
    }
   ],
   "source": [
    "# 1 Nearest Neighbour\n",
    "start = time.time()\n",
    "knn_1 = KNN(k=1)\n",
    "knn_1.fit(X_mean_train, y_train)\n",
    "y_preds = knn_1.predict(X_mean_test)\n",
    "end = time.time()\n",
    "print(f\"Accuracy (1 Nearest Neighbour): {accuracy_score(y_test, y_preds) *100:.2f}%\")\n",
    "print(f'Total execution time : {end-start}')\n",
    "\n",
    "# Nearest Centroid\n",
    "start = time.time()\n",
    "nc_1 = MyNearestCentroid()\n",
    "nc_1.fit(X_mean_train, y_train)\n",
    "y_preds_nc = nc_1.predict(X_mean_test)\n",
    "end = time.time()\n",
    "print(f\"Accuracy (Nearest Centroid): {accuracy_score(y_test, y_preds_nc) *100:.2f}%\")\n",
    "print(f'Total execution time : {end-start}')\n",
    "\n",
    "# 3 Nearest Neighbours\n",
    "start = time.time()\n",
    "knn_1 = KNN(k=3)\n",
    "knn_1.fit(X_mean_train, y_train)\n",
    "y_preds = knn_1.predict(X_mean_test)\n",
    "end = time.time()\n",
    "print(f\"Accuracy (3 Nearest Neighbours): {accuracy_score(y_test, y_preds) *100:.2f}%\")\n",
    "print(f'Total execution time : {end-start}')"
   ]
  },
  {
   "cell_type": "code",
   "execution_count": 7,
   "metadata": {},
   "outputs": [
    {
     "name": "stdout",
     "output_type": "stream",
     "text": [
      "Accuracy (1 Nearest Neighbour): 17.67%\n",
      "Total execution time : 0.3744218349456787\n",
      "Accuracy (Nearest Centroid): 19.63%\n",
      "Total execution time : 0.1781444549560547\n",
      "Accuracy (3 Nearest Neighbour): 18.70%\n",
      "Total execution time : 0.38065123558044434\n"
     ]
    }
   ],
   "source": [
    "# 1 Nearest Neighbour\n",
    "start = time.time()\n",
    "knn_sc = KNeighborsClassifier(n_neighbors=1)\n",
    "knn_sc.fit(X_mean_train, y_train)\n",
    "y_pred = knn_sc.predict(X_mean_test)\n",
    "end = time.time()\n",
    "print(f\"Accuracy (1 Nearest Neighbour): {accuracy_score(y_test, y_pred) *100:.2f}%\")\n",
    "print(f'Total execution time : {end-start}')\n",
    "\n",
    "# Nearest Centroid\n",
    "start = time.time()\n",
    "clf = NearestCentroid()\n",
    "clf.fit(X_mean_train, y_train)\n",
    "y_pred_clf = clf.predict(X_mean_test)\n",
    "end = time.time()\n",
    "print(f\"Accuracy (Nearest Centroid): {accuracy_score(y_test, y_pred_clf) *100:.2f}%\")\n",
    "print(f'Total execution time : {end-start}')\n",
    "\n",
    "# 3 Nearest Neighbours\n",
    "start = time.time()\n",
    "knn_sc = KNeighborsClassifier(n_neighbors=3)\n",
    "knn_sc.fit(X_mean_train, y_train)\n",
    "y_pred = knn_sc.predict(X_mean_test)\n",
    "end = time.time()\n",
    "print(f\"Accuracy (3 Nearest Neighbour): {accuracy_score(y_test, y_pred) *100:.2f}%\")\n",
    "print(f'Total execution time : {end-start}')"
   ]
  },
  {
   "cell_type": "markdown",
   "metadata": {},
   "source": [
    "Οπώς μπορούμε να παρατηρήσουμε η απόδοση των αλγορίθμων με αυτά τα features δεν είναι τόσο καλή, γεγονός που ήταν αναμενόμενο καθότι τα features που δίνουμε δεν είναι αντιπροσωπευτικά για την κατηγοροποίηση των εικόνων στις αντίστοιχες κλάσεις. Ωστόσο, βλέπουμε πως και ο αλγόριθμος της scikit-learn αλλά και αυτός που υλοποίησα δίνουν την ίδια ακρίβεια."
   ]
  },
  {
   "cell_type": "markdown",
   "metadata": {},
   "source": [
    "## Colour Histograms\n",
    "\n",
    "Λόγω της πολύ κακής απόδοσης που είχαν οι μέσοι όροι φωτεινότητας για το κάθε colour channel, δοκιμάζω αυτή την φορά να δώσω διαφορετικά features και συγκεκριμένα αποφασίζω να δώσω το ιστόγραμμα από κάθε colour channel το οποίο περιέχει την πολύ σημαντική πληροφορία της κατανομής της φωτεινότητας για τα τρία χρώματα για την κάθε εικόνα, γεγονός που πιθανόν να βελτιώσει την κατηγοροποίηση των εικόνων στις σωστές κλάσεις. "
   ]
  },
  {
   "cell_type": "code",
   "execution_count": 8,
   "metadata": {},
   "outputs": [],
   "source": [
    "def color_histogram(image, bins=30):\n",
    "\n",
    "    red_hist = np.histogram(image[:, :, 0], bins=bins, range=(0, 255))[0] # getting the values of the histogram for the red colour channel\n",
    "    green_hist = np.histogram(image[:, :, 1], bins=bins, range=(0, 255))[0] # getting the values of the histogram for the green colour channel\n",
    "    blue_hist = np.histogram(image[:, :, 2], bins=bins, range=(0, 255))[0] # getting the values of the histogram for the blue colour channel\n",
    "\n",
    "    hist_features = np.concatenate([red_hist, green_hist, blue_hist])\n",
    "    return hist_features\n",
    "\n",
    "H_train = np.zeros(shape=(X_train.shape[0], 90))\n",
    "H_test  = np.zeros(shape=(X_test.shape[0], 90))\n",
    "\n",
    "for i in range(train_images.shape[0]):\n",
    "    H_train[i] = color_histogram(train_images[i])\n",
    "\n",
    "for i in range(test_images.shape[0]):\n",
    "    H_test[i] = color_histogram(test_images[i])"
   ]
  },
  {
   "cell_type": "markdown",
   "metadata": {},
   "source": [
    "Επομένως με αυτό τον τρόπο το κάθε sample θα αποτελείται από 90 συνολικά features, 30 από τα οποία θα είναι για το κάθε επιμέρους colour channel, δηλαδή σημαντικά περισσότερη πληροφορία από ότι προηγουμένως και επίσης πιο ουσιώδης αφού περιέχει καλύτερα χαρακτηριστικά της κάθε εικόνας σε σχέση με προηγουμένως. \n",
    "\n",
    "Οπότε όπως και προηγουμένως δοκιμάζω πρώτα πως δουλεύει η δικιά μου υλοποίηση και στην συνέχεια δοκιμάζω την απόδοση που έχει η scikit-learn."
   ]
  },
  {
   "cell_type": "code",
   "execution_count": 9,
   "metadata": {},
   "outputs": [
    {
     "name": "stdout",
     "output_type": "stream",
     "text": [
      "Accuracy (1 Nearest Neighbour): 28.34%\n",
      "Total execution time : 227.28843069076538\n",
      "Accuracy (Nearest Centroid): 22.02%\n",
      "Total execution time : 0.10452127456665039\n",
      "Accuracy (3 Nearest Neighbours): 27.83%\n",
      "Total execution time : 219.85882139205933\n"
     ]
    }
   ],
   "source": [
    "# 1 Nearest Neighbour\n",
    "start = time.time()\n",
    "knn_1 = KNN(k=1)\n",
    "knn_1.fit(H_train, y_train)\n",
    "y_preds = knn_1.predict(H_test)\n",
    "end = time.time()\n",
    "print(f\"Accuracy (1 Nearest Neighbour): {accuracy_score(y_test, y_preds) *100:.2f}%\")\n",
    "print(f'Total execution time : {end-start}')\n",
    "\n",
    "# Nearest Centroid\n",
    "start = time.time()\n",
    "nc_1 = MyNearestCentroid()\n",
    "nc_1.fit(H_train, y_train)\n",
    "y_preds_nc = nc_1.predict(H_test)\n",
    "end = time.time()\n",
    "print(f\"Accuracy (Nearest Centroid): {accuracy_score(y_test, y_preds_nc) *100:.2f}%\")\n",
    "print(f'Total execution time : {end-start}')\n",
    "\n",
    "# 3 Nearest Neighbours\n",
    "start = time.time()\n",
    "knn_1 = KNN(k=3)\n",
    "knn_1.fit(H_train, y_train)\n",
    "y_preds = knn_1.predict(H_test)\n",
    "end = time.time()\n",
    "print(f\"Accuracy (3 Nearest Neighbours): {accuracy_score(y_test, y_preds) *100:.2f}%\")\n",
    "print(f'Total execution time : {end-start}')"
   ]
  },
  {
   "cell_type": "code",
   "execution_count": 10,
   "metadata": {},
   "outputs": [
    {
     "name": "stdout",
     "output_type": "stream",
     "text": [
      "Accuracy (1 Nearest Neighbour): 28.34%\n",
      "Total execution time : 0.5074515342712402\n",
      "Accuracy (Nearest Centroid): 22.02%\n",
      "Total execution time : 0.0272824764251709\n",
      "Accuracy (3 Nearest Neighbour): 27.83%\n",
      "Total execution time : 0.5409097671508789\n"
     ]
    }
   ],
   "source": [
    "# 1 Nearest Neighbour\n",
    "start = time.time()\n",
    "knn_sc = KNeighborsClassifier(n_neighbors=1)\n",
    "knn_sc.fit(H_train, y_train)\n",
    "y_pred = knn_sc.predict(H_test)\n",
    "end = time.time()\n",
    "print(f\"Accuracy (1 Nearest Neighbour): {accuracy_score(y_test, y_pred) *100:.2f}%\")\n",
    "print(f'Total execution time : {end-start}')\n",
    "\n",
    "# Nearest Centroid\n",
    "start = time.time()\n",
    "clf = NearestCentroid()\n",
    "clf.fit(H_train, y_train)\n",
    "y_pred_clf = clf.predict(H_test)\n",
    "end = time.time()\n",
    "print(f\"Accuracy (Nearest Centroid): {accuracy_score(y_test, y_pred_clf) *100:.2f}%\")\n",
    "print(f'Total execution time : {end-start}')\n",
    "\n",
    "# 3 Nearest Neighbours\n",
    "start = time.time()\n",
    "knn_sc = KNeighborsClassifier(n_neighbors=3)\n",
    "knn_sc.fit(H_train, y_train)\n",
    "y_pred = knn_sc.predict(H_test)\n",
    "end = time.time()\n",
    "print(f\"Accuracy (3 Nearest Neighbour): {accuracy_score(y_test, y_pred) *100:.2f}%\")\n",
    "print(f'Total execution time : {end-start}')"
   ]
  },
  {
   "cell_type": "markdown",
   "metadata": {},
   "source": [
    "Από τα παραπάνω αποτελέσματα παρατηρούμε πως έχουμε αρκετά σημαντική βελτίωση της ακρίβειας και των δύο αλγορίθμων κάτι που ήταν αναμενόμενο καθότι, πέρα από το γεγονός το ότι είναι περισσότερα features και άρα περισσότερη πληροφορία, τα features που δίνουμε είναι περισσότερο χρήσιμα από ότι προηγουμένως. Ωστόσο, εξακολουθούμε να παρατηρούμε πως η ακρίβεια και για τους δύο αλγορίθμους είναι αρκετά χαμηλή κάτι που πιθανόν να υποδηλώνει πως και οι δύο αλγόριθμοι ίσως να μην κατάλληλοι για την κατηγοροποίηση μιας τέτοιας βάσης δεδομένων όπως είναι η CIFAR-10."
   ]
  },
  {
   "cell_type": "markdown",
   "metadata": {},
   "source": [
    "## PCA \n",
    "\n",
    "* Στην συνέχεια δοκιμάζω να εφαρμόσω **PCA** στα δεδομένα μου που έχει ως σκοπό να βρει έναν υποχώρο διάστασης **d < p** που εξηγεί όσο το δυνατόν περισσότερο τη διασπορά των σημείων και συνεπώς συνοψίζει τις πληροφορίες των πολλών διαστάσεων σε λιγότερες  καθότι μετασχηματίζει συσχετισμένες μεταβλητές σε γραμμικά ασυσχέτιστα components.\n",
    "\n",
    "* Όπως και προηγουμένως συγκρίνω την απόδοση των αλγορίθμων με τους δικούς για να επιβεβαιώσω ότι εκτελούν ορθά την δουλειά τους αλλά και για να δω την απόδοση τους στην βάση δεδομένων που έχω επιλέξει. \n"
   ]
  },
  {
   "cell_type": "markdown",
   "metadata": {},
   "source": [
    "Πριν την εφαρμογή του **PCA**, μετά από αναζήτηση που έκανα, απαιτείται ένα scaling των δεδομένων και ειδικότερα το συνιστώμενο scaling για την CIFAR-10, για κλασσικές μεθόδους μηχανικής μάθησης όπως είναι ο αλγόριθμος k Nearest Neighbour, προτείνεται ο `StandardScaler()` ο οποίος βάζει όλα τα features να έχουν μέση τιμή ίση με το 0 και διασπορά ίση με μονάδα."
   ]
  },
  {
   "cell_type": "code",
   "execution_count": 11,
   "metadata": {},
   "outputs": [],
   "source": [
    "sc = StandardScaler() # initializing the scaler class\n",
    "pca = PCA(n_components=30) # initializing the PCA class\n",
    "\n",
    "X_train_scaled = sc.fit_transform(X_train)\n",
    "X_test_scaled  = sc.transform(X_test)\n",
    "\n",
    "X_train_pca = pca.fit_transform(X_train_scaled)\n",
    "X_test_pca  = pca.transform(X_test_scaled)"
   ]
  },
  {
   "cell_type": "markdown",
   "metadata": {},
   "source": [
    "Στο παραπάνω κομμάτι κώδικα κάνω scale όλα τα features όπως ανέφερα προηγουμένως και στην συνέχεια εφαρμόζω το **PCA** κρατόντας μόνο 30 components από τα 3072 features που έχει η κάθε εικόνα της CIFAR-10, μειώνοντας με αυτό τον τρόπο σημαντικά την πολυπλοκότητα του προβλήματός μου. Ωστόσο, αυτό, όπως είδαμε και προηγουμένως, μπορεί να βοηθήσει διότι μέσα σε αυτά τα 30 components μένει η σηματνική πληροφορία."
   ]
  },
  {
   "cell_type": "code",
   "execution_count": 12,
   "metadata": {},
   "outputs": [
    {
     "name": "stdout",
     "output_type": "stream",
     "text": [
      "Accuracy (1 Nearest Neighbour): 39.11%\n",
      "Total execution time : 102.0483968257904\n",
      "Accuracy (Nearest Centroid): 27.89%\n",
      "Total execution time : 0.08610701560974121\n",
      "Accuracy (3 Nearest Neighbours): 39.06%\n",
      "Total execution time : 105.98461842536926\n"
     ]
    }
   ],
   "source": [
    "# 1 Nearest Neighbour\n",
    "start = time.time()\n",
    "knn_1 = KNN(k=1)\n",
    "knn_1.fit(X_train_pca, y_train)\n",
    "y_preds = knn_1.predict(X_test_pca)\n",
    "end = time.time()\n",
    "print(f\"Accuracy (1 Nearest Neighbour): {accuracy_score(y_test, y_preds) *100:.2f}%\")\n",
    "print(f'Total execution time : {end-start}')\n",
    "\n",
    "# Nearest Centroid\n",
    "start = time.time()\n",
    "nc_1 = MyNearestCentroid()\n",
    "nc_1.fit(X_train_pca, y_train)\n",
    "y_preds_nc = nc_1.predict(X_test_pca)\n",
    "end = time.time()\n",
    "print(f\"Accuracy (Nearest Centroid): {accuracy_score(y_test, y_preds_nc) *100:.2f}%\")\n",
    "print(f'Total execution time : {end-start}')\n",
    "\n",
    "# 3 Nearest Neighbours\n",
    "start = time.time()\n",
    "knn_1 = KNN(k=3)\n",
    "knn_1.fit(X_train_pca, y_train)\n",
    "y_preds = knn_1.predict(X_test_pca)\n",
    "end = time.time()\n",
    "print(f\"Accuracy (3 Nearest Neighbours): {accuracy_score(y_test, y_preds) *100:.2f}%\")\n",
    "print(f'Total execution time : {end-start}')"
   ]
  },
  {
   "cell_type": "code",
   "execution_count": 13,
   "metadata": {},
   "outputs": [
    {
     "name": "stdout",
     "output_type": "stream",
     "text": [
      "Accuracy (1 Nearest Neighbour): 39.11%\n",
      "Total execution time : 0.3683907985687256\n",
      "Accuracy (Nearest Centroid): 27.89%\n",
      "Total execution time : 0.01925349235534668\n",
      "Accuracy (3 Nearest Neighbour): 39.06%\n",
      "Total execution time : 0.3614828586578369\n"
     ]
    }
   ],
   "source": [
    "# 1 Nearest Neighbour\n",
    "start = time.time()\n",
    "knn_sc = KNeighborsClassifier(n_neighbors=1)\n",
    "knn_sc.fit(X_train_pca, y_train)\n",
    "y_pred = knn_sc.predict(X_test_pca)\n",
    "end = time.time()\n",
    "print(f\"Accuracy (1 Nearest Neighbour): {accuracy_score(y_test, y_pred) *100:.2f}%\")\n",
    "print(f'Total execution time : {end-start}')\n",
    "\n",
    "# Nearest Centroid\n",
    "start = time.time()\n",
    "clf = NearestCentroid()\n",
    "clf.fit(X_train_pca, y_train)\n",
    "y_pred_clf = clf.predict(X_test_pca)\n",
    "end = time.time()\n",
    "print(f\"Accuracy (Nearest Centroid): {accuracy_score(y_test, y_pred_clf) *100:.2f}%\")\n",
    "print(f'Total execution time : {end-start}')\n",
    "\n",
    "# 3 Nearest Neighbours\n",
    "start = time.time()\n",
    "knn_sc = KNeighborsClassifier(n_neighbors=3)\n",
    "knn_sc.fit(X_train_pca, y_train)\n",
    "y_pred = knn_sc.predict(X_test_pca)\n",
    "end = time.time()\n",
    "print(f\"Accuracy (3 Nearest Neighbour): {accuracy_score(y_test, y_pred) *100:.2f}%\")\n",
    "print(f'Total execution time : {end-start}')"
   ]
  },
  {
   "cell_type": "markdown",
   "metadata": {},
   "source": [
    "Από τα παραπάνω αποτελέσματα παρατηρούμε πως η χρήση του **PCA** βοήθησε σε σημαντικό βαθμό στην κατηγοροποίηση των δεδομένων και ειδικότερα τον αλγόριθμο του k Nearest Neighbour. Αυτό το αποτέλεσμα ήταν αναμενόμενο καθότι *\"συμπυκνώσαμε\"* την χρήσιμη πληροφορία της εικόνας που υπήρχε στα 3072 features σε μόλις 30, πράγμα που διευκόλυνε τον αλγόριθμο πλησιέστερου γείτονα να πάρει αποφάσεις. Παρόλα αυτά, τα αποτελέσματα της κατηγοροποίησης που παίρνουμε εξακολουθούν να μην είναι ικανοποιητικά και για τους δύο αλγορίθμους."
   ]
  },
  {
   "cell_type": "markdown",
   "metadata": {},
   "source": [
    "## PCA on Colour Histograms\n",
    "\n",
    "Στην συνέχεια δοκιμάζω να εφαρμόσω **PCA** στα features που εξήγαγα από τα ιστογράμματα του κάθε colour channel, για να δοκιμάσω τα αποτελέσματα που θα προκύψουν αν και αναμένω πως θα είναι χειρότερα από το προηγούμενο πείραμα."
   ]
  },
  {
   "cell_type": "code",
   "execution_count": 14,
   "metadata": {},
   "outputs": [],
   "source": [
    "sc = StandardScaler()\n",
    "pca = PCA(n_components=30)\n",
    "\n",
    "H_train_scaled = sc.fit_transform(H_train)\n",
    "H_test_scaled  = sc.transform(H_test)\n",
    "\n",
    "H_train_pca = pca.fit_transform(H_train_scaled)\n",
    "H_test_pca  = pca.transform(H_test_scaled)"
   ]
  },
  {
   "cell_type": "markdown",
   "metadata": {},
   "source": [
    "Όπως και προηγουμένως εφαρμόζω και πάλι τους αλγορίθμους για να συγκρίνω την απόδοση τους."
   ]
  },
  {
   "cell_type": "code",
   "execution_count": 15,
   "metadata": {},
   "outputs": [
    {
     "name": "stdout",
     "output_type": "stream",
     "text": [
      "Accuracy (1 Nearest Neighbour): 29.09%\n",
      "Total execution time : 98.90100502967834\n",
      "Accuracy (Nearest Centroid): 21.47%\n",
      "Total execution time : 0.0871269702911377\n",
      "Accuracy (3 Nearest Neighbours): 27.86%\n",
      "Total execution time : 97.65498971939087\n"
     ]
    }
   ],
   "source": [
    "# 1 Nearest Neighbour\n",
    "start = time.time()\n",
    "knn_1 = KNN(k=1)\n",
    "knn_1.fit(H_train_pca, y_train)\n",
    "y_preds = knn_1.predict(H_test_pca)\n",
    "end = time.time()\n",
    "print(f\"Accuracy (1 Nearest Neighbour): {accuracy_score(y_test, y_preds) *100:.2f}%\")\n",
    "print(f'Total execution time : {end-start}')\n",
    "\n",
    "# Nearest Centroid\n",
    "start = time.time()\n",
    "nc_1 = MyNearestCentroid()\n",
    "nc_1.fit(H_train_pca, y_train)\n",
    "y_preds_nc = nc_1.predict(H_test_pca)\n",
    "end = time.time()\n",
    "print(f\"Accuracy (Nearest Centroid): {accuracy_score(y_test, y_preds_nc) *100:.2f}%\")\n",
    "print(f'Total execution time : {end-start}')\n",
    "\n",
    "# 3 Nearest Neighbours\n",
    "start = time.time()\n",
    "knn_1 = KNN(k=3)\n",
    "knn_1.fit(H_train_pca, y_train)\n",
    "y_preds = knn_1.predict(H_test_pca)\n",
    "end = time.time()\n",
    "print(f\"Accuracy (3 Nearest Neighbours): {accuracy_score(y_test, y_preds) *100:.2f}%\")\n",
    "print(f'Total execution time : {end-start}')"
   ]
  },
  {
   "cell_type": "code",
   "execution_count": 16,
   "metadata": {},
   "outputs": [
    {
     "name": "stdout",
     "output_type": "stream",
     "text": [
      "Accuracy (1 Nearest Neighbour): 29.09%\n",
      "Total execution time : 0.36922216415405273\n",
      "Accuracy (Nearest Centroid): 21.47%\n",
      "Total execution time : 0.015137195587158203\n",
      "Accuracy (3 Nearest Neighbour): 27.86%\n",
      "Total execution time : 0.33322882652282715\n"
     ]
    }
   ],
   "source": [
    "# 1 Nearest Neighbour\n",
    "start = time.time()\n",
    "knn_sc = KNeighborsClassifier(n_neighbors=1)\n",
    "knn_sc.fit(H_train_pca, y_train)\n",
    "y_pred = knn_sc.predict(H_test_pca)\n",
    "end = time.time()\n",
    "print(f\"Accuracy (1 Nearest Neighbour): {accuracy_score(y_test, y_pred) *100:.2f}%\")\n",
    "print(f'Total execution time : {end-start}')\n",
    "\n",
    "# Nearest Centroid\n",
    "start = time.time()\n",
    "clf = NearestCentroid()\n",
    "clf.fit(H_train_pca, y_train)\n",
    "y_pred_clf = clf.predict(H_test_pca)\n",
    "end = time.time()\n",
    "print(f\"Accuracy (Nearest Centroid): {accuracy_score(y_test, y_pred_clf) *100:.2f}%\")\n",
    "print(f'Total execution time : {end-start}')\n",
    "\n",
    "# 3 Nearest Neighbours\n",
    "start = time.time()\n",
    "knn_sc = KNeighborsClassifier(n_neighbors=3)\n",
    "knn_sc.fit(H_train_pca, y_train)\n",
    "y_pred = knn_sc.predict(H_test_pca)\n",
    "end = time.time()\n",
    "print(f\"Accuracy (3 Nearest Neighbour): {accuracy_score(y_test, y_pred) *100:.2f}%\")\n",
    "print(f'Total execution time : {end-start}')"
   ]
  },
  {
   "cell_type": "markdown",
   "metadata": {},
   "source": [
    "Όπως και ήταν αναμενόμενο τα αποτελέσματα που παίρνουμε είναι χειρότερα από προηγουμένως οπότε η τεχνική **PCA** δεν βοήθησε στην ταξινόμηση των εικόνων."
   ]
  },
  {
   "cell_type": "markdown",
   "metadata": {},
   "source": [
    "## Συνδυασμός PCA όλων των features & PCA των Colour Channels\n",
    "\n",
    "Ας δοκιμάσουμε τώρα να δούμε τι αποτελέσματα θα δώσουν οι δύο αλγόριθμοι στην περίπτωση που συνδυάσω τα δύο προηγούμενα πειράματα μαζί. Μια αρχική εκτίμηση είναι ότι θα μας δώσουν αρκετά καλύτερα αποτελέσματα καθότι και οι δύο ξεχωριστά είχαν αρκετά καλές επιδόσεις. Συνεπώς συνδυάζοντας τα χαρακτηριστικά τους αναμένουμε καλύτερη ταξινόμηση των εικόνων σε σχέση με προηγουμένως. "
   ]
  },
  {
   "cell_type": "code",
   "execution_count": 17,
   "metadata": {},
   "outputs": [],
   "source": [
    "X_H_train_combined = np.hstack((X_train_pca, H_train_pca))\n",
    "X_H_test_combined  = np.hstack((X_test_pca, H_test_pca))"
   ]
  },
  {
   "cell_type": "code",
   "execution_count": 18,
   "metadata": {},
   "outputs": [
    {
     "name": "stdout",
     "output_type": "stream",
     "text": [
      "Accuracy (1 Nearest Neighbour): 40.47%\n",
      "Total execution time : 160.96559238433838\n",
      "Accuracy (Nearest Centroid): 28.07%\n",
      "Total execution time : 0.09685850143432617\n",
      "Accuracy (3 Nearest Neighbours): 40.16%\n",
      "Total execution time : 160.2369441986084\n"
     ]
    }
   ],
   "source": [
    "# 1 Nearest Neighbour\n",
    "start = time.time()\n",
    "knn_1 = KNN(k=1)\n",
    "knn_1.fit(X_H_train_combined, y_train)\n",
    "y_preds = knn_1.predict(X_H_test_combined)\n",
    "end = time.time()\n",
    "print(f\"Accuracy (1 Nearest Neighbour): {accuracy_score(y_test, y_preds) *100:.2f}%\")\n",
    "print(f'Total execution time : {end-start}')\n",
    "\n",
    "# Nearest Centroid\n",
    "start = time.time()\n",
    "nc_1 = MyNearestCentroid()\n",
    "nc_1.fit(X_H_train_combined, y_train)\n",
    "y_preds_nc = nc_1.predict(X_H_test_combined)\n",
    "end = time.time()\n",
    "print(f\"Accuracy (Nearest Centroid): {accuracy_score(y_test, y_preds_nc) *100:.2f}%\")\n",
    "print(f'Total execution time : {end-start}')\n",
    "\n",
    "# 3 Nearest Neighbours\n",
    "start = time.time()\n",
    "knn_1 = KNN(k=3)\n",
    "knn_1.fit(X_H_train_combined, y_train)\n",
    "y_preds = knn_1.predict(X_H_test_combined)\n",
    "end = time.time()\n",
    "print(f\"Accuracy (3 Nearest Neighbours): {accuracy_score(y_test, y_preds) *100:.2f}%\")\n",
    "print(f'Total execution time : {end-start}')"
   ]
  },
  {
   "cell_type": "code",
   "execution_count": 19,
   "metadata": {},
   "outputs": [
    {
     "name": "stdout",
     "output_type": "stream",
     "text": [
      "Accuracy (1 Nearest Neighbour): 40.47%\n",
      "Total execution time : 0.40112805366516113\n",
      "Accuracy (Nearest Centroid): 28.07%\n",
      "Total execution time : 0.022395610809326172\n",
      "Accuracy (3 Nearest Neighbour): 40.16%\n",
      "Total execution time : 0.44815611839294434\n"
     ]
    }
   ],
   "source": [
    "# 1 Nearest Neighbour\n",
    "start = time.time()\n",
    "knn_sc = KNeighborsClassifier(n_neighbors=1)\n",
    "knn_sc.fit(X_H_train_combined, y_train)\n",
    "y_pred = knn_sc.predict(X_H_test_combined)\n",
    "end = time.time()\n",
    "print(f\"Accuracy (1 Nearest Neighbour): {accuracy_score(y_test, y_pred) *100:.2f}%\")\n",
    "print(f'Total execution time : {end-start}')\n",
    "\n",
    "# Nearest Centroid\n",
    "start = time.time()\n",
    "clf = NearestCentroid()\n",
    "clf.fit(X_H_train_combined, y_train)\n",
    "y_pred_clf = clf.predict(X_H_test_combined)\n",
    "end = time.time()\n",
    "print(f\"Accuracy (Nearest Centroid): {accuracy_score(y_test, y_pred_clf) *100:.2f}%\")\n",
    "print(f'Total execution time : {end-start}')\n",
    "\n",
    "# 3 Nearest Neighbours\n",
    "start = time.time()\n",
    "knn_sc = KNeighborsClassifier(n_neighbors=3)\n",
    "knn_sc.fit(X_H_train_combined, y_train)\n",
    "y_pred = knn_sc.predict(X_H_test_combined)\n",
    "end = time.time()\n",
    "print(f\"Accuracy (3 Nearest Neighbour): {accuracy_score(y_test, y_pred) *100:.2f}%\")\n",
    "print(f'Total execution time : {end-start}')"
   ]
  },
  {
   "cell_type": "markdown",
   "metadata": {},
   "source": [
    "Τελικά, συμπεραίνουμε πως όντως παίρνουμε καλύτερα αποτελέσματα με τον συνδυασμό αυτών των features. Ωστόσο παρατηρούμε πως καλύτερη απόδοση είχε ο k Nearest Neighbour, σε αντίθεση με τον Nearest Centroid στον οποίο η αύξηση της ακρίβειας ήταν ελάχιστη σε σχέση με προηγουμένως."
   ]
  },
  {
   "cell_type": "markdown",
   "metadata": {},
   "source": [
    "## Ιστογράμματα HSV (Hue-Saturation-Value)\n",
    "\n",
    "Στην συνέχεια χρησιμοποιώ τα ιστογράμματα **Hue-Saturation-Value** τα οποία είναι στην ουσία μια διαφορετική αναπαράσταση των χρωμάτων της κάθε εικόνας. Συγκεκριμένα, είναι θεωρητικά καλύτερα για εξαγωγή χρήσιμων χαρακτηριστικών από μια βάση δεδομένων όπως είναι η CIFAR-10 γιατί διακρίνουν καλύτερα την φωτεινότητα και την καθαρότητα των χρωμάτων σε σχέση με τα προηγούμενα ιστογράμματα όπου τα χρώματα και η φωτεινότητα ήταν πιο μπλεγμένα."
   ]
  },
  {
   "cell_type": "markdown",
   "metadata": {},
   "source": [
    "Αρχικά μετασχηματίζω τις εικόνες από RGB σε HSV και στην συνέχεια καλώ την συνάρτηση που είχα υλοποιήσει προηγουμένως για την δημιουργία των ιστογραμμάτων."
   ]
  },
  {
   "cell_type": "code",
   "execution_count": 20,
   "metadata": {},
   "outputs": [],
   "source": [
    "train_images_hsv = np.zeros(shape=train_images.shape, dtype=np.uint8)\n",
    "test_images_hsv  = np.zeros(shape=test_images.shape, dtype=np.uint8)\n",
    "\n",
    "for i in range(train_images.shape[0]):\n",
    "    train_images_hsv[i] = cv2.cvtColor(train_images[i], cv2.COLOR_RGB2HSV)\n",
    "\n",
    "for i in range(test_images.shape[0]):\n",
    "    test_images_hsv[i]  = cv2.cvtColor(test_images[i], cv2.COLOR_RGB2HSV)\n",
    "\n",
    "\n",
    "H_train_hsv = np.zeros(shape=(X_train.shape[0], 90))\n",
    "H_test_hsv  = np.zeros(shape=(X_test.shape[0], 90))\n",
    "\n",
    "for i in range(0, train_images.shape[0]):\n",
    "    H_train_hsv[i] = color_histogram(train_images_hsv[i])\n",
    "\n",
    "for i in range(0, test_images.shape[0]):\n",
    "    H_test_hsv[i] = color_histogram(test_images_hsv[i])"
   ]
  },
  {
   "cell_type": "markdown",
   "metadata": {},
   "source": [
    "Όπως και προηγουμένως εφαρμόζω και πάλι τους αλγορίθμους για να συγκρίνω την απόδοση τους."
   ]
  },
  {
   "cell_type": "code",
   "execution_count": 21,
   "metadata": {},
   "outputs": [
    {
     "name": "stdout",
     "output_type": "stream",
     "text": [
      "Accuracy (1 Nearest Neighbour): 30.16%\n",
      "Total execution time : 221.15089440345764\n",
      "Accuracy (Nearest Centroid): 24.64%\n",
      "Total execution time : 0.10001921653747559\n",
      "Accuracy (3 Nearest Neighbours): 29.41%\n",
      "Total execution time : 222.8660500049591\n"
     ]
    }
   ],
   "source": [
    "# 1 Nearest Neighbour\n",
    "start = time.time()\n",
    "knn_1 = KNN(k=1)\n",
    "knn_1.fit(H_train_hsv, y_train)\n",
    "y_preds = knn_1.predict(H_test_hsv)\n",
    "end = time.time()\n",
    "print(f\"Accuracy (1 Nearest Neighbour): {accuracy_score(y_test, y_preds) *100:.2f}%\")\n",
    "print(f'Total execution time : {end-start}')\n",
    "\n",
    "# Nearest Centroid\n",
    "start = time.time()\n",
    "nc_1 = MyNearestCentroid()\n",
    "nc_1.fit(H_train_hsv, y_train)\n",
    "y_preds_nc = nc_1.predict(H_test_hsv)\n",
    "end = time.time()\n",
    "print(f\"Accuracy (Nearest Centroid): {accuracy_score(y_test, y_preds_nc) *100:.2f}%\")\n",
    "print(f'Total execution time : {end-start}')\n",
    "\n",
    "# 3 Nearest Neighbours\n",
    "start = time.time()\n",
    "knn_1 = KNN(k=3)\n",
    "knn_1.fit(H_train_hsv, y_train)\n",
    "y_preds = knn_1.predict(H_test_hsv)\n",
    "end = time.time()\n",
    "print(f\"Accuracy (3 Nearest Neighbours): {accuracy_score(y_test, y_preds) *100:.2f}%\")\n",
    "print(f'Total execution time : {end-start}')"
   ]
  },
  {
   "cell_type": "code",
   "execution_count": 22,
   "metadata": {},
   "outputs": [
    {
     "name": "stdout",
     "output_type": "stream",
     "text": [
      "Accuracy (1 Nearest Neighbour): 30.16%\n",
      "Total execution time : 0.4863564968109131\n",
      "Accuracy (Nearest Centroid): 24.64%\n",
      "Total execution time : 0.03341865539550781\n",
      "Accuracy (3 Nearest Neighbour): 29.40%\n",
      "Total execution time : 0.5179953575134277\n"
     ]
    }
   ],
   "source": [
    "# 1 Nearest Neighbour\n",
    "start = time.time()\n",
    "knn_sc = KNeighborsClassifier(n_neighbors=1)\n",
    "knn_sc.fit(H_train_hsv, y_train)\n",
    "y_pred = knn_sc.predict(H_test_hsv)\n",
    "end = time.time()\n",
    "print(f\"Accuracy (1 Nearest Neighbour): {accuracy_score(y_test, y_pred) *100:.2f}%\")\n",
    "print(f'Total execution time : {end-start}')\n",
    "\n",
    "# Nearest Centroid\n",
    "start = time.time()\n",
    "clf = NearestCentroid()\n",
    "clf.fit(H_train_hsv, y_train)\n",
    "y_pred_clf = clf.predict(H_test_hsv)\n",
    "end = time.time()\n",
    "print(f\"Accuracy (Nearest Centroid): {accuracy_score(y_test, y_pred_clf) *100:.2f}%\")\n",
    "print(f'Total execution time : {end-start}')\n",
    "\n",
    "# 3 Nearest Neighbours\n",
    "start = time.time()\n",
    "knn_sc = KNeighborsClassifier(n_neighbors=3)\n",
    "knn_sc.fit(H_train_hsv, y_train)\n",
    "y_pred = knn_sc.predict(H_test_hsv)\n",
    "end = time.time()\n",
    "print(f\"Accuracy (3 Nearest Neighbour): {accuracy_score(y_test, y_pred) *100:.2f}%\")\n",
    "print(f'Total execution time : {end-start}')"
   ]
  },
  {
   "cell_type": "markdown",
   "metadata": {},
   "source": [
    "Από τα αποτελέσματα που προκύπτουν συμπεραίνουμε πως όντως λαμβάνουμε καλύτερα αποτελέσματα ταξινόμησης των εικόνων και με τους 2 αλγορίθμους σε σχέση με τα απλά ιστογράμματα για το κάθε colour channel. "
   ]
  },
  {
   "cell_type": "markdown",
   "metadata": {},
   "source": [
    "## k-Nearest Neighbour & Nearest Centroid on PyTorch\n",
    "\n",
    "Επειδή η εκτέλεση των αλγορίθμων με την δικιά μου υλοποίηση απαιτεί αρκετό χρόνο, παραθέτω παρακάτω την υλοποίηση τους με την βοήθεια της `PyTorch` η οποία μου επιτρέπει να μεταφέρω την εκτέλεση τους από τον επεξεργαστή στην κάρτα γραφικών. \n",
    "\n",
    "Για τον αλγόριθμο k-Nearest Neighbour έκανα δύο υλοποιήσεις:\n",
    "1. Η πρώτη είναι ουσιαστικά \"μετάφραση\" του κώδικα που έχω γράψει πιο πάνω, χρησιμοποιώντας συναρτήσεις της `PyTorch`. Ωστόσο, σε αυτή παρατήρησα πως όταν έδινα όλα τα 3072 features, δεν έπαιρνα την ίδια ακρίβεια με αυτή που έβγαζε η υλοποίηση της `scikit-learn`. Αυτό πιθανόν οφείλεται στο πως οι συναρτήσεις που χρησιμοποιώ παίρνουν αποφάσεις καθώς επίσης και στο γεγονός της ακρίβειας λόγω των floating points.\n",
    " \n",
    "2. Η δεύτερη υλοποίηση την οποία πρότεινε το ChatGPT εκμεταλλεύεται περισσότερο τις συναρτήσεις που προσφέρει η `PyTorch` με αποτέλεσμα να είναι σημαντικά πιο γρήγορη αλλά και πιο ακριβής από την προηγούμενη."
   ]
  },
  {
   "cell_type": "code",
   "execution_count": 31,
   "metadata": {},
   "outputs": [],
   "source": [
    "class KNN_gpu:\n",
    "    def __init__(self, device, k:int=3):\n",
    "        self.k = k\n",
    "        self.device = torch.device(device)\n",
    "\n",
    "    def fit(self, X:torch.Tensor, y:torch.Tensor):\n",
    "        self.X = X.to(self.device)\n",
    "        self.y = y.to(self.device)\n",
    "\n",
    "    def get_distance(self, a:torch.Tensor) -> torch.Tensor:\n",
    "        return torch.sqrt(torch.sum( (self.X - a) ** 2, dim=1))\n",
    "\n",
    "    def get_neighbours(self, example:torch.Tensor):\n",
    "        distances = self.get_distance(example)\n",
    "        k_indices = torch.argsort(distances)[:self.k]\n",
    "        return k_indices\n",
    "\n",
    "    def predict(self, X:torch.Tensor) -> torch.Tensor:\n",
    "        X = X.to(self.device)\n",
    "        predictions = []\n",
    "\n",
    "        for example in X:\n",
    "            k_indices  = self.get_neighbours(example)\n",
    "            k_y_values = self.y[k_indices]\n",
    "            prediction = torch.bincount(k_y_values).argmax()\n",
    "            predictions.append(prediction.item())\n",
    "\n",
    "        return torch.tensor(predictions, device=self.device)\n",
    "\n",
    "\n",
    "class KNN_cuda:\n",
    "    def __init__(self, device, k:int=3):\n",
    "        self.k = k\n",
    "        self.device = device\n",
    "\n",
    "    def fit(self, X: torch.Tensor, y: torch.Tensor):\n",
    "        self.X = X.to(self.device)\n",
    "        self.y = y.to(self.device)\n",
    "\n",
    "    def predict(self, X: torch.Tensor):\n",
    "        X = X.to(self.device)\n",
    "        distances = torch.cdist(X, self.X)  # Compute pairwise distances between X and self.X\n",
    "        k_indices = distances.topk(self.k, dim=1, largest=False).indices  # Get k smallest distances\n",
    "        k_y_values = self.y[k_indices]  # Retrieve labels for the k nearest neighbors\n",
    "        return torch.mode(k_y_values, dim=1).values.to('cpu')  # Return the most common class for each row\n",
    "\n",
    "\n",
    "class MyNearestCentroid_cuda():\n",
    "\n",
    "    def __init__(self, device:str='cuda'):\n",
    "        self.centroids = None\n",
    "        self.classes = None\n",
    "        self.device = device\n",
    "\n",
    "\n",
    "    def fit(self, X_train:torch.Tensor, y_train:torch.Tensor):\n",
    "        \n",
    "        X_train = X_train.to(self.device)\n",
    "        y_train = y_train.to(self.device)\n",
    "\n",
    "        self.classes = torch.unique(y_train)\n",
    "\n",
    "        self.centroids = []\n",
    "\n",
    "        for cls in self.classes:\n",
    "            centroid = X_train[y_train == cls].mean(dim=0)\n",
    "            self.centroids.append(centroid)\n",
    "\n",
    "        self.centroids = torch.stack(self.centroids).to(self.device)\n",
    "\n",
    "    def predict(self, X_test:torch.Tensor)->torch.Tensor:\n",
    "\n",
    "        X_test = X_test.to(self.device)\n",
    "        distances = torch.cdist(X_test, self.centroids)\n",
    "        classes_indeces = distances.argmin(dim=1)\n",
    "        predictions = self.classes[classes_indeces]\n",
    "\n",
    "        return predictions"
   ]
  },
  {
   "cell_type": "code",
   "execution_count": 32,
   "metadata": {},
   "outputs": [
    {
     "name": "stdout",
     "output_type": "stream",
     "text": [
      "PyTorch version: 2.0.1+cu117\n",
      "CUDA available: True\n",
      "CUDA version: 11.7\n"
     ]
    }
   ],
   "source": [
    "print(f\"PyTorch version: {torch.__version__}\")\n",
    "print(f\"CUDA available: {torch.cuda.is_available()}\")\n",
    "print(f\"CUDA version: {torch.version.cuda}\")"
   ]
  },
  {
   "cell_type": "markdown",
   "metadata": {},
   "source": [
    "## Histogram of Oriented Gradients\n",
    "\n",
    "Στην συνέχεια δοκιμάζω να χρησιμοποιήσω τον αλγόριθμο **HOG**(Histogram of Oriented Gradients) ο οποίος είναι ένας πολύ συνηθισμένος feature descriptor αλγόριθμος που μετράει τις εμφανίσεις των προσανατολισμών των gradient σε τοπικές μερίδες της εικόνας, δίνοντας έτσι χρήσιμα χαρακτηριστικά τα οποία μπορούν να χρησιμοποιηθούν αντί για ολόκληρο το set των features.\n",
    "\n",
    "Επομένως, με αυτό τον τρόπο αναμένω πως η ακρίβεια των αποτελεσμάτων μου θα αυξηθεί σε αρκετά μεγάλο βαθμό σε σχέση με προηγουμένως."
   ]
  },
  {
   "cell_type": "code",
   "execution_count": 33,
   "metadata": {},
   "outputs": [
    {
     "data": {
      "text/plain": [
       "'cuda'"
      ]
     },
     "execution_count": 33,
     "metadata": {},
     "output_type": "execute_result"
    }
   ],
   "source": [
    "device = 'cuda' if torch.cuda.is_available() else 'cpu'\n",
    "device"
   ]
  },
  {
   "cell_type": "code",
   "execution_count": 26,
   "metadata": {},
   "outputs": [
    {
     "data": {
      "text/plain": [
       "((50000, 324), (10000, 324))"
      ]
     },
     "execution_count": 26,
     "metadata": {},
     "output_type": "execute_result"
    }
   ],
   "source": [
    "def compute_hog_features(image):\n",
    "    hog_features, hog_image = hog(image, pixels_per_cell=(8, 8),\n",
    "                                  cells_per_block=(2, 2), visualize=True, channel_axis=-1, transform_sqrt=True)\n",
    "    return hog_features\n",
    "\n",
    "X_train_HOG = np.zeros(shape=(train_images.shape[0], 324))\n",
    "X_test_HOG  = np.zeros(shape=(test_images.shape[0], 324))\n",
    "\n",
    "for i in range(train_images.shape[0]):\n",
    "    X_train_HOG[i, :] = compute_hog_features(train_images[i])\n",
    "\n",
    "for i in range(test_images.shape[0]):\n",
    "    X_test_HOG[i, :] = compute_hog_features(test_images[i])\n",
    "\n",
    "X_train_HOG.shape, X_test_HOG.shape"
   ]
  },
  {
   "cell_type": "code",
   "execution_count": 27,
   "metadata": {},
   "outputs": [
    {
     "name": "stdout",
     "output_type": "stream",
     "text": [
      "Accuracy (1 Nearest Neighbour): 49.02%\n",
      "Total execution time : 1.3841140270233154\n",
      "Accuracy (Nearest Centroid): 42.56%\n",
      "Total execution time : 0.08960533142089844\n",
      "Accuracy (3 Nearest Neighbour): 49.86%\n",
      "Total execution time : 1.36338210105896\n"
     ]
    }
   ],
   "source": [
    "# 1 Nearest Neighbour\n",
    "start = time.time()\n",
    "knn_sc = KNeighborsClassifier(n_neighbors=1)\n",
    "knn_sc.fit(X_train_HOG, y_train)\n",
    "y_pred = knn_sc.predict(X_test_HOG)\n",
    "end = time.time()\n",
    "print(f\"Accuracy (1 Nearest Neighbour): {accuracy_score(y_test, y_pred) *100:.2f}%\")\n",
    "print(f'Total execution time : {end-start}')\n",
    "\n",
    "# Nearest Centroid\n",
    "start = time.time()\n",
    "clf = NearestCentroid()\n",
    "clf.fit(X_train_HOG, y_train)\n",
    "y_pred_clf = clf.predict(X_test_HOG)\n",
    "end = time.time()\n",
    "print(f\"Accuracy (Nearest Centroid): {accuracy_score(y_test, y_pred_clf) *100:.2f}%\")\n",
    "print(f'Total execution time : {end-start}')\n",
    "\n",
    "# 3 Nearest Neighbours\n",
    "start = time.time()\n",
    "knn_sc = KNeighborsClassifier(n_neighbors=3)\n",
    "knn_sc.fit(X_train_HOG, y_train)\n",
    "y_pred = knn_sc.predict(X_test_HOG)\n",
    "end = time.time()\n",
    "print(f\"Accuracy (3 Nearest Neighbour): {accuracy_score(y_test, y_pred) *100:.2f}%\")\n",
    "print(f'Total execution time : {end-start}')"
   ]
  },
  {
   "cell_type": "code",
   "execution_count": 39,
   "metadata": {},
   "outputs": [
    {
     "name": "stdout",
     "output_type": "stream",
     "text": [
      "Accuracy (1 Nearest Neighbour): 49.02%\n",
      "Total execution time : 3.768641710281372\n",
      "Accuracy (Nearest Centroid): 42.56%\n",
      "Total execution time : 0.16248345375061035\n",
      "Accuracy (3 Nearest Neighbours): 49.86%\n",
      "Total execution time : 3.424720525741577\n"
     ]
    }
   ],
   "source": [
    "X_train_HOG_tensor = torch.from_numpy(X_train_HOG)\n",
    "X_test_HOG_tensor  = torch.from_numpy(X_test_HOG)\n",
    "y_train_tensor = torch.from_numpy(y_train)\n",
    "\n",
    "# 1 Nearest Neighbour\n",
    "start = time.time()\n",
    "knn_1 = KNN_cuda(device, k=1)\n",
    "knn_1.fit(X_train_HOG_tensor, y_train_tensor)\n",
    "y_predictions = knn_1.predict(X_test_HOG_tensor).cpu().numpy()\n",
    "end = time.time()\n",
    "print(f\"Accuracy (1 Nearest Neighbour): {accuracy_score(y_test, y_predictions) *100:.2f}%\")\n",
    "print(f'Total execution time : {end-start}')\n",
    "\n",
    "# Nearest Centroid\n",
    "start = time.time()\n",
    "nc_1 = MyNearestCentroid()\n",
    "nc_1.fit(X_train_HOG, y_train)\n",
    "y_preds_nc = nc_1.predict(X_test_HOG)\n",
    "end = time.time()\n",
    "print(f\"Accuracy (Nearest Centroid): {accuracy_score(y_test, y_preds_nc) *100:.2f}%\")\n",
    "print(f'Total execution time : {end-start}')\n",
    "\n",
    "# 3 Nearest Neighbours\n",
    "start = time.time()\n",
    "knn_2 = KNN_cuda(device, k=3)\n",
    "knn_2.fit(X_train_HOG_tensor, y_train_tensor)\n",
    "y_predictions = knn_2.predict(X_test_HOG_tensor).cpu().numpy()\n",
    "end = time.time()\n",
    "print(f\"Accuracy (3 Nearest Neighbours): {accuracy_score(y_test, y_predictions) *100:.2f}%\")\n",
    "print(f'Total execution time : {end-start}')"
   ]
  },
  {
   "cell_type": "code",
   "execution_count": 41,
   "metadata": {},
   "outputs": [
    {
     "name": "stdout",
     "output_type": "stream",
     "text": [
      "Accuracy (1 Nearest Neighbour): 49.02%\n",
      "Total execution time : 22.50934147834778\n",
      "Accuracy (3 Nearest Neighbours): 49.86%\n",
      "Total execution time : 21.97100520133972\n"
     ]
    }
   ],
   "source": [
    "# 1 Nearest Neighbour\n",
    "start = time.time()\n",
    "knn_1 = KNN_gpu(device, k=1)\n",
    "knn_1.fit(X_train_HOG_tensor, y_train_tensor)\n",
    "y_predictions = knn_1.predict(X_test_HOG_tensor).cpu().numpy()\n",
    "end = time.time()\n",
    "print(f\"Accuracy (1 Nearest Neighbour): {accuracy_score(y_test, y_predictions) *100:.2f}%\")\n",
    "print(f'Total execution time : {end-start}')\n",
    "\n",
    "# 3 Nearest Neighbours\n",
    "start = time.time()\n",
    "knn_2 = KNN_gpu(device, k=3)\n",
    "knn_2.fit(X_train_HOG_tensor, y_train_tensor)\n",
    "y_predictions = knn_2.predict(X_test_HOG_tensor).cpu().numpy()\n",
    "end = time.time()\n",
    "print(f\"Accuracy (3 Nearest Neighbours): {accuracy_score(y_test, y_predictions) *100:.2f}%\")\n",
    "print(f'Total execution time : {end-start}')"
   ]
  },
  {
   "cell_type": "markdown",
   "metadata": {},
   "source": [
    "Από τα παραπάνω αποτελέσματα παρατηρούμε πως όλες οι διαφορετικές υλοποιήσεις των αλγορίθμων δίνουν τα ίδια αποτελέσματα για την ακρίβεια της ταξινόμησης στις διάφορες κλάσεις. Μια ακόμα παρατήρηση που μπορούμε να κάνουμε είναι για την ταχύτητα εκτέλεσης τους η οποία τώρα έχει μειωθεί σημαντικά καθότι ο κώδικας εκτελείται πλέον στην **GPU**. Τέλος, παρατηρούμε πως η ακρίβεια και των δύο αλγορίθμων αυξήθηκε σε σημαντικό βαθμό, φτάνοντας σχεδόν στο 50%."
   ]
  },
  {
   "cell_type": "markdown",
   "metadata": {},
   "source": [
    "## PCA στα HOG features & HOG features\n",
    "\n",
    "Μια ακόμα δοκιμή που κάνω είναι να εφαρμόσω **PCA** στα features που πήρα από την προηγούμενη μέθοδο και να συνδυάσω αυτά τα features με τα features του **HOG**. Παρακάτω φαίνονται τα αποτελέσματα της εκτέλεσης αυτής της ιδέας. "
   ]
  },
  {
   "cell_type": "code",
   "execution_count": 59,
   "metadata": {},
   "outputs": [],
   "source": [
    "pca = PCA(n_components=100) \n",
    "sc = StandardScaler()\n",
    "\n",
    "X_train_HOG_scaled = sc.fit_transform(X_train_HOG)\n",
    "X_test_HOG_scaled = sc.transform(X_test_HOG)\n",
    "X_train_HOG_pca = pca.fit_transform(X_train_HOG_scaled)\n",
    "X_test_HOG_pca = pca.transform(X_test_HOG_scaled)\n",
    "\n",
    "combined_train = np.hstack((X_train_HOG_scaled, X_train_HOG_pca))\n",
    "combined_test = np.hstack((X_test_HOG_scaled, X_test_HOG_pca))"
   ]
  },
  {
   "cell_type": "code",
   "execution_count": 60,
   "metadata": {},
   "outputs": [
    {
     "name": "stdout",
     "output_type": "stream",
     "text": [
      "Accuracy (1 Nearest Neighbour): 49.74%\n",
      "Total execution time : 1.643829584121704\n",
      "Accuracy (Nearest Centroid): 42.98%\n",
      "Total execution time : 0.10541391372680664\n",
      "Accuracy (3 Nearest Neighbour): 50.83%\n",
      "Total execution time : 1.5461359024047852\n"
     ]
    }
   ],
   "source": [
    "# 1 Nearest Neighbour\n",
    "start = time.time()\n",
    "knn_sc = KNeighborsClassifier(n_neighbors=1)\n",
    "knn_sc.fit(combined_train, y_train)\n",
    "y_pred = knn_sc.predict(combined_test)\n",
    "end = time.time()\n",
    "print(f\"Accuracy (1 Nearest Neighbour): {accuracy_score(y_test, y_pred) *100:.2f}%\")\n",
    "print(f'Total execution time : {end-start}')\n",
    "\n",
    "# Nearest Centroid\n",
    "start = time.time()\n",
    "clf = NearestCentroid()\n",
    "clf.fit(combined_train, y_train)\n",
    "y_pred_clf = clf.predict(combined_test)\n",
    "end = time.time()\n",
    "print(f\"Accuracy (Nearest Centroid): {accuracy_score(y_test, y_pred_clf) *100:.2f}%\")\n",
    "print(f'Total execution time : {end-start}')\n",
    "\n",
    "# 3 Nearest Neighbours\n",
    "start = time.time()\n",
    "knn_sc = KNeighborsClassifier(n_neighbors=3)\n",
    "knn_sc.fit(combined_train, y_train)\n",
    "y_pred = knn_sc.predict(combined_test)\n",
    "end = time.time()\n",
    "print(f\"Accuracy (3 Nearest Neighbour): {accuracy_score(y_test, y_pred) *100:.2f}%\")\n",
    "print(f'Total execution time : {end-start}')"
   ]
  },
  {
   "cell_type": "code",
   "execution_count": 61,
   "metadata": {},
   "outputs": [
    {
     "name": "stdout",
     "output_type": "stream",
     "text": [
      "Accuracy (1 Nearest Neighbour): 49.74%\n",
      "Total execution time : 4.723083257675171\n",
      "Accuracy (Nearest Centroid): 42.98%\n",
      "Total execution time : 0.17769217491149902\n",
      "Accuracy (3 Nearest Neighbours): 50.83%\n",
      "Total execution time : 4.606115102767944\n"
     ]
    }
   ],
   "source": [
    "combined_train_tensor = torch.from_numpy(combined_train)\n",
    "combined_test_tensor  = torch.from_numpy(combined_test)\n",
    "y_train_tensor = torch.from_numpy(y_train)\n",
    "\n",
    "# 1 Nearest Neighbour\n",
    "start = time.time()\n",
    "knn_1 = KNN_cuda(device, k=1)\n",
    "knn_1.fit(combined_train_tensor, y_train_tensor)\n",
    "y_predictions = knn_1.predict(combined_test_tensor).cpu().numpy()\n",
    "end = time.time()\n",
    "print(f\"Accuracy (1 Nearest Neighbour): {accuracy_score(y_test, y_predictions) *100:.2f}%\")\n",
    "print(f'Total execution time : {end-start}')\n",
    "\n",
    "# Nearest Centroid\n",
    "start = time.time()\n",
    "nc_1 = MyNearestCentroid()\n",
    "nc_1.fit(combined_train, y_train)\n",
    "y_preds_nc = nc_1.predict(combined_test)\n",
    "end = time.time()\n",
    "print(f\"Accuracy (Nearest Centroid): {accuracy_score(y_test, y_preds_nc) *100:.2f}%\")\n",
    "print(f'Total execution time : {end-start}')\n",
    "\n",
    "# 3 Nearest Neighbours\n",
    "start = time.time()\n",
    "knn_2 = KNN_cuda(device, k=3)\n",
    "knn_2.fit(combined_train_tensor, y_train_tensor)\n",
    "y_predictions = knn_2.predict(combined_test_tensor).cpu().numpy()\n",
    "end = time.time()\n",
    "print(f\"Accuracy (3 Nearest Neighbours): {accuracy_score(y_test, y_predictions) *100:.2f}%\")\n",
    "print(f'Total execution time : {end-start}')"
   ]
  },
  {
   "cell_type": "markdown",
   "metadata": {},
   "source": [
    "Παρατηρώ ότι τα αποτελέσματα δεν αυξήθηκαν σε μεγάλο βαθμό αλλά παρόλα αυτά υπήρχε μια βελτίωση. Αυτό ήταν το υψηλότερο που κατόρθωσα να πάρω χρησιμοποιώντας διάφορες τεχνικές για την μείωση της διάστασης του προβλήματος και άρα και την πολυπλοκότητά του."
   ]
  },
  {
   "cell_type": "markdown",
   "metadata": {},
   "source": [
    "## Εισαγωγή όλων των features\n",
    "\n",
    "Τέλος, δοκιμάζω να βάλω όλα τα features του κάθε δείγματος που δίνει η CIFAR-10 για να δω την ακρίβεια των αλγορίθμων πλησιέστερου γείτονα και του αλγόριθμου πλησιέστερου κέντρου."
   ]
  },
  {
   "cell_type": "code",
   "execution_count": 66,
   "metadata": {},
   "outputs": [
    {
     "name": "stdout",
     "output_type": "stream",
     "text": [
      "Accuracy (1 Nearest Neighbour): 35.40%\n",
      "Total execution time : 0.651972770690918\n",
      "Accuracy (Nearest Centroid): 27.74%\n",
      "Total execution time : 0.5248005390167236\n",
      "Accuracy (3 Nearest Neighbours): 33.02%\n",
      "Total execution time : 0.7371947765350342\n"
     ]
    }
   ],
   "source": [
    "X_train_tensor = torch.from_numpy(X_train).type(torch.float32)\n",
    "X_test_tensor  = torch.from_numpy(X_test).type(torch.float32)\n",
    "y_train_tensor = torch.from_numpy(y_train).type(torch.long)\n",
    "\n",
    "# 1 Nearest Neighbour\n",
    "start = time.time()\n",
    "knn_1 = KNN_cuda(device, k=1)\n",
    "knn_1.fit(X_train_tensor, y_train_tensor)\n",
    "y_predictions = knn_1.predict(X_test_tensor).cpu().numpy()\n",
    "end = time.time()\n",
    "print(f\"Accuracy (1 Nearest Neighbour): {accuracy_score(y_test, y_predictions) *100:.2f}%\")\n",
    "print(f'Total execution time : {end-start}')\n",
    "\n",
    "# Nearest Centroid\n",
    "start = time.time()\n",
    "nc_1 = MyNearestCentroid()\n",
    "nc_1.fit(X_train, y_train)\n",
    "y_preds_nc = nc_1.predict(X_test)\n",
    "end = time.time()\n",
    "print(f\"Accuracy (Nearest Centroid): {accuracy_score(y_test, y_preds_nc) *100:.2f}%\")\n",
    "print(f'Total execution time : {end-start}')\n",
    "\n",
    "# 3 Nearest Neighbours\n",
    "start = time.time()\n",
    "knn_2 = KNN_cuda(device, k=3)\n",
    "knn_2.fit(X_train_tensor, y_train_tensor)\n",
    "y_predictions = knn_2.predict(X_test_tensor).cpu().numpy()\n",
    "end = time.time()\n",
    "print(f\"Accuracy (3 Nearest Neighbours): {accuracy_score(y_test, y_predictions) *100:.2f}%\")\n",
    "print(f'Total execution time : {end-start}')"
   ]
  },
  {
   "cell_type": "code",
   "execution_count": 67,
   "metadata": {},
   "outputs": [
    {
     "name": "stdout",
     "output_type": "stream",
     "text": [
      "Accuracy (1 Nearest Neighbour): 35.39%\n",
      "Total execution time : 19.965590953826904\n",
      "Accuracy (Nearest Centroid): 27.74%\n",
      "Total execution time : 0.2523472309112549\n",
      "Accuracy (3 Nearest Neighbour): 33.03%\n",
      "Total execution time : 19.027969360351562\n"
     ]
    }
   ],
   "source": [
    "# 1 Nearest Neighbour\n",
    "start = time.time()\n",
    "knn_sc = KNeighborsClassifier(n_neighbors=1)\n",
    "knn_sc.fit(X_train, y_train)\n",
    "y_pred = knn_sc.predict(X_test)\n",
    "end = time.time()\n",
    "print(f\"Accuracy (1 Nearest Neighbour): {accuracy_score(y_test, y_pred) *100:.2f}%\")\n",
    "print(f'Total execution time : {end-start}')\n",
    "\n",
    "# Nearest Centroid\n",
    "start = time.time()\n",
    "clf = NearestCentroid()\n",
    "clf.fit(X_train, y_train)\n",
    "y_pred_clf = clf.predict(X_test)\n",
    "end = time.time()\n",
    "print(f\"Accuracy (Nearest Centroid): {accuracy_score(y_test, y_pred_clf) *100:.2f}%\")\n",
    "print(f'Total execution time : {end-start}')\n",
    "\n",
    "# 3 Nearest Neighbours\n",
    "start = time.time()\n",
    "knn_sc = KNeighborsClassifier(n_neighbors=3)\n",
    "knn_sc.fit(X_train, y_train)\n",
    "y_pred = knn_sc.predict(X_test)\n",
    "end = time.time()\n",
    "print(f\"Accuracy (3 Nearest Neighbour): {accuracy_score(y_test, y_pred) *100:.2f}%\")\n",
    "print(f'Total execution time : {end-start}')"
   ]
  },
  {
   "cell_type": "markdown",
   "metadata": {},
   "source": [
    "Από τα παραπάνω παρατηρούμε πως και οι δυο αλγόριθμοι, δηλαδή και ο k-Nearest Neighbour αλλά και ο Nearest Centroid δεν έχουν πολύ καλή απόδοση όταν βάζουμε όλα τα features χωρίς κάποια επεξεργασία τους.\n",
    "\n",
    "Τέλος, από όλη αυτή την ανάλυση που προηγήθηκε, μπορούμε να συμπεράνουμε πως γενικότερα οι αλγόριθμοι μας  δεν αποδίδουν τόσο καλά όσο θα θέλαμε για να μπορέσουμε να ταξινομήσουμε εικόνες που προέρχονται από μια βάση δεδομένων όπως είναι η CIFAR-10. Συνεπώς, για την καλύτερη κατηγοροποίηση τους, απαιτείται ένα νευρωνικό δίκτυο το οποίο θα έχει σαφώς καλύτερη απόδοση και θα μπορέσει να κατηγοροποιήσει πιο ορθά τις εικόνες στις κατάλληλες κλάσεις."
   ]
  }
 ],
 "metadata": {
  "kernelspec": {
   "display_name": "Python 3",
   "language": "python",
   "name": "python3"
  },
  "language_info": {
   "codemirror_mode": {
    "name": "ipython",
    "version": 3
   },
   "file_extension": ".py",
   "mimetype": "text/x-python",
   "name": "python",
   "nbconvert_exporter": "python",
   "pygments_lexer": "ipython3",
   "version": "3.10.0rc1"
  }
 },
 "nbformat": 4,
 "nbformat_minor": 2
}
